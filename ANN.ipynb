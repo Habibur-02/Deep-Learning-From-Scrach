{
  "nbformat": 4,
  "nbformat_minor": 0,
  "metadata": {
    "colab": {
      "provenance": [],
      "gpuType": "T4",
      "authorship_tag": "ABX9TyOT274grXglpA09WIEqbRnU",
      "include_colab_link": true
    },
    "kernelspec": {
      "name": "python3",
      "display_name": "Python 3"
    },
    "language_info": {
      "name": "python"
    },
    "accelerator": "GPU"
  },
  "cells": [
    {
      "cell_type": "markdown",
      "metadata": {
        "id": "view-in-github",
        "colab_type": "text"
      },
      "source": [
        "<a href=\"https://colab.research.google.com/github/Habibur-02/Deep-Learning-From-Scrach/blob/main/ANN.ipynb\" target=\"_parent\"><img src=\"https://colab.research.google.com/assets/colab-badge.svg\" alt=\"Open In Colab\"/></a>"
      ]
    },
    {
      "cell_type": "code",
      "execution_count": 1,
      "metadata": {
        "id": "wrASqquwp2kO"
      },
      "outputs": [],
      "source": [
        "import numpy as np\n",
        "import matplotlib.pyplot as plt\n",
        "import random"
      ]
    },
    {
      "cell_type": "code",
      "source": [
        "X_train = np.loadtxt('train_X(1).csv', delimiter = ',').T\n",
        "Y_train = np.loadtxt('train_label(1).csv', delimiter = ',').T\n",
        "\n",
        "X_test = np.loadtxt('test_X(1).csv', delimiter = ',').T\n",
        "Y_test = np.loadtxt('test_label(1).csv', delimiter = ',').T"
      ],
      "metadata": {
        "id": "I-dUsEt8qK4-"
      },
      "execution_count": 2,
      "outputs": []
    },
    {
      "cell_type": "code",
      "source": [
        "\n",
        "\n",
        "index = random.randrange(0, X_train.shape[1])\n",
        "plt.imshow(X_train[:, index].reshape(28, 28), cmap = 'gray')\n",
        "plt.show()\n",
        "\n"
      ],
      "metadata": {
        "colab": {
          "base_uri": "https://localhost:8080/",
          "height": 430
        },
        "id": "cSNIgpSAqenR",
        "outputId": "06400a47-7dc3-42f6-9392-525ea8822718"
      },
      "execution_count": 3,
      "outputs": [
        {
          "output_type": "display_data",
          "data": {
            "text/plain": [
              "<Figure size 640x480 with 1 Axes>"
            ],
            "image/png": "[encoded data removed]"
          },
          "metadata": {}
        }
      ]
    },
    {
      "cell_type": "code",
      "source": [
        "def tanh(x):\n",
        "    return np.tanh(x)\n",
        "\n",
        "def relu(x):\n",
        "    return np.maximum(x, 0)\n",
        "\n",
        "def softmax(x):\n",
        "    expX = np.exp(x)\n",
        "    return expX/np.sum(expX, axis = 0)"
      ],
      "metadata": {
        "id": "P3GDPrNJqgUW"
      },
      "execution_count": 4,
      "outputs": []
    },
    {
      "cell_type": "code",
      "source": [
        "def derivative_tanh(x):\n",
        "    return (1 - np.power(np.tanh(x), 2))\n",
        "\n",
        "def derivative_relu(x):\n",
        "    return np.array(x > 0, dtype = np.float32)"
      ],
      "metadata": {
        "id": "RBn0yYfNqk_p"
      },
      "execution_count": 5,
      "outputs": []
    },
    {
      "cell_type": "code",
      "source": [
        "\n",
        "\n",
        "def initialize_parameters(n_x, n_h, n_y):\n",
        "    w1 = np.random.randn(n_h, n_x)*0.01\n",
        "    b1 = np.zeros((n_h, 1))\n",
        "\n",
        "    w2 = np.random.randn(n_y, n_h)*0.01\n",
        "    b2 = np.zeros((n_y, 1))\n",
        "\n",
        "    parameters = {\n",
        "        \"w1\" : w1,\n",
        "        \"b1\" : b1,\n",
        "        \"w2\" : w2,\n",
        "        \"b2\" : b2\n",
        "    }\n",
        "\n",
        "    return parameters\n",
        "\n"
      ],
      "metadata": {
        "id": "Fa0yniCFqpol"
      },
      "execution_count": 6,
      "outputs": []
    },
    {
      "cell_type": "code",
      "source": [
        "def forward_propagation(x, parameters):\n",
        "\n",
        "    w1 = parameters['w1']\n",
        "    b1 = parameters['b1']\n",
        "    w2 = parameters['w2']\n",
        "    b2 = parameters['b2']\n",
        "\n",
        "    z1 = np.dot(w1, x) + b1\n",
        "    a1 = tanh(z1)\n",
        "\n",
        "    z2 = np.dot(w2, a1) + b2\n",
        "    a2 = softmax(z2)\n",
        "\n",
        "    forward_cache = {\n",
        "        \"z1\" : z1,\n",
        "        \"a1\" : a1,\n",
        "        \"z2\" : z2,\n",
        "        \"a2\" : a2\n",
        "    }\n",
        "\n",
        "    return forward_cache"
      ],
      "metadata": {
        "id": "5MvuXi6wqtAB"
      },
      "execution_count": 7,
      "outputs": []
    },
    {
      "cell_type": "code",
      "source": [
        "\n",
        "\n",
        "def cost_function(a2, y):\n",
        "    m = y.shape[1]\n",
        "\n",
        "    cost = -(1/m)*np.sum(y*np.log(a2))\n",
        "\n",
        "    #cost = -(1/m)*np.sum(np.sum(y*np.log(a2, 0), 1))\n",
        "\n",
        "    return cost\n",
        "\n"
      ],
      "metadata": {
        "id": "IVUs9LjwqwVc"
      },
      "execution_count": 8,
      "outputs": []
    },
    {
      "cell_type": "code",
      "source": [
        "def backward_prop(x, y, parameters, forward_cache):\n",
        "\n",
        "    w1 = parameters['w1']\n",
        "    b1 = parameters['b1']\n",
        "    w2 = parameters['w2']\n",
        "    b2 = parameters['b2']\n",
        "\n",
        "    a1 = forward_cache['a1']\n",
        "    a2 = forward_cache['a2']\n",
        "\n",
        "    m = x.shape[1]\n",
        "\n",
        "    dz2 = (a2 - y)\n",
        "    dw2 = (1/m)*np.dot(dz2, a1.T)\n",
        "    db2 = (1/m)*np.sum(dz2, axis = 1, keepdims = True)\n",
        "\n",
        "    dz1 = (1/m)*np.dot(w2.T, dz2)*derivative_tanh(a1)\n",
        "    dw1 = (1/m)*np.dot(dz1, x.T)\n",
        "    db1 = (1/m)*np.sum(dz1, axis = 1, keepdims = True)\n",
        "\n",
        "    gradients = {\n",
        "        \"dw1\" : dw1,\n",
        "        \"db1\" : db1,\n",
        "        \"dw2\" : dw2,\n",
        "        \"db2\" : db2\n",
        "    }\n",
        "\n",
        "    return gradients"
      ],
      "metadata": {
        "id": "K4g_74HRq0qt"
      },
      "execution_count": 9,
      "outputs": []
    },
    {
      "cell_type": "code",
      "source": [
        "def update_parameters(parameters, gradients, learning_rate):\n",
        "\n",
        "    w1 = parameters['w1']\n",
        "    b1 = parameters['b1']\n",
        "    w2 = parameters['w2']\n",
        "    b2 = parameters['b2']\n",
        "\n",
        "    dw1 = gradients['dw1']\n",
        "    db1 = gradients['db1']\n",
        "    dw2 = gradients['dw2']\n",
        "    db2 = gradients['db2']\n",
        "\n",
        "    w1 = w1 - learning_rate*dw1\n",
        "    b1 = b1 - learning_rate*db1\n",
        "    w2 = w2 - learning_rate*dw2\n",
        "    b2 = b2 - learning_rate*db2\n",
        "\n",
        "    parameters = {\n",
        "        \"w1\" : w1,\n",
        "        \"b1\" : b1,\n",
        "        \"w2\" : w2,\n",
        "        \"b2\" : b2\n",
        "    }\n",
        "\n",
        "    return parameters"
      ],
      "metadata": {
        "id": "_t5FZvSHq4Wc"
      },
      "execution_count": 10,
      "outputs": []
    },
    {
      "cell_type": "code",
      "source": [
        "def model(x, y, n_h, learning_rate, iterations):\n",
        "\n",
        "    n_x = x.shape[0]\n",
        "    n_y = y.shape[0]\n",
        "\n",
        "    cost_list = []\n",
        "\n",
        "    parameters = initialize_parameters(n_x, n_h, n_y)\n",
        "\n",
        "    for i in range(iterations):\n",
        "\n",
        "        forward_cache = forward_propagation(x, parameters)\n",
        "\n",
        "        cost = cost_function(forward_cache['a2'], y)\n",
        "\n",
        "        gradients = backward_prop(x, y, parameters, forward_cache)\n",
        "\n",
        "        parameters = update_parameters(parameters, gradients, learning_rate)\n",
        "\n",
        "        cost_list.append(cost)\n",
        "\n",
        "        if(i%(iterations/10) == 0):\n",
        "            print(\"Cost after\", i, \"iterations is :\", cost)\n",
        "\n",
        "    return parameters, cost_list"
      ],
      "metadata": {
        "id": "Pn2V8rgAq8SB"
      },
      "execution_count": 11,
      "outputs": []
    },
    {
      "cell_type": "code",
      "source": [
        "\n",
        "\n",
        "iterations = 100\n",
        "n_h = 1000\n",
        "learning_rate = 0.02\n",
        "Parameters, Cost_list = model(X_train, Y_train, n_h = n_h, learning_rate = learning_rate, iterations = iterations)\n",
        "\n"
      ],
      "metadata": {
        "colab": {
          "base_uri": "https://localhost:8080/"
        },
        "id": "ORNeL0SPrB24",
        "outputId": "f2559821-ef54-4642-e3e8-7abddcd4fc29"
      },
      "execution_count": 12,
      "outputs": [
        {
          "output_type": "stream",
          "name": "stdout",
          "text": [
            "Cost after 0 iterations is : 2.3529794640382247\n",
            "Cost after 10 iterations is : 1.191214937769429\n",
            "Cost after 20 iterations is : 0.8321562872461764\n",
            "Cost after 30 iterations is : 0.6629110332851874\n",
            "Cost after 40 iterations is : 0.5615598736956389\n",
            "Cost after 50 iterations is : 0.4921460779760496\n",
            "Cost after 60 iterations is : 0.4405557558421359\n",
            "Cost after 70 iterations is : 0.40009257530840847\n",
            "Cost after 80 iterations is : 0.36713957918523654\n",
            "Cost after 90 iterations is : 0.3395530298221246\n"
          ]
        }
      ]
    },
    {
      "cell_type": "code",
      "source": [
        "\n",
        "\n",
        "t = np.arange(0, iterations)\n",
        "plt.plot(t, Cost_list)\n",
        "plt.show()\n",
        "\n"
      ],
      "metadata": {
        "colab": {
          "base_uri": "https://localhost:8080/",
          "height": 430
        },
        "id": "Y81VyCzPrF4l",
        "outputId": "785c0409-fb8d-421a-a3ed-5faeb1b57731"
      },
      "execution_count": 13,
      "outputs": [
        {
          "output_type": "display_data",
          "data": {
            "text/plain": [
              "<Figure size 640x480 with 1 Axes>"
            ],
            "image/png": "[encoded data removed]"
          },
          "metadata": {}
        }
      ]
    },
    {
      "cell_type": "code",
      "source": [
        "def accuracy(inp, labels, parameters):\n",
        "    forward_cache = forward_propagation(inp, parameters)\n",
        "    a_out = forward_cache['a2']   # containes propabilities with shape(10, 1)\n",
        "\n",
        "    a_out = np.argmax(a_out, 0)  # 0 represents row wise\n",
        "\n",
        "    labels = np.argmax(labels, 0)\n",
        "\n",
        "    acc = np.mean(a_out == labels)*100\n",
        "\n",
        "    return acc\n",
        "\n",
        "print(\"Accuracy of Train Dataset\", accuracy(X_train, Y_train, Parameters), \"%\")\n",
        "print(\"Accuracy of Test Dataset\", round(accuracy(X_test, Y_test, Parameters), 2), \"%\")\n",
        "\n"
      ],
      "metadata": {
        "colab": {
          "base_uri": "https://localhost:8080/"
        },
        "id": "5TGF2tmArJup",
        "outputId": "533f5bb6-4673-45fe-93f2-4557c19f8818"
      },
      "execution_count": 14,
      "outputs": [
        {
          "output_type": "stream",
          "name": "stdout",
          "text": [
            "Accuracy of Train Dataset 95.39999999999999 %\n",
            "Accuracy of Test Dataset 86.57 %\n"
          ]
        }
      ]
    },
    {
      "cell_type": "code",
      "source": [
        "\n",
        "\n",
        "idx = int(random.randrange(0,X_test.shape[1]))\n",
        "plt.imshow(X_test[:, idx].reshape((28,28)),cmap='gray')\n",
        "plt.show()\n",
        "\n",
        "cache = forward_propagation(X_test[:, idx].reshape(X_test[:, idx].shape[0], 1), Parameters)\n",
        "a_pred = cache['a2']\n",
        "a_pred = np.argmax(a_pred, 0)\n",
        "\n",
        "print(\"Our model says it is :\", a_pred[0])\n",
        "\n"
      ],
      "metadata": {
        "colab": {
          "base_uri": "https://localhost:8080/",
          "height": 448
        },
        "id": "jafWlH7YrKyc",
        "outputId": "0adba66e-4f84-4e89-cab6-dc2f050cb0d4"
      },
      "execution_count": 16,
      "outputs": [
        {
          "output_type": "display_data",
          "data": {
            "text/plain": [
              "<Figure size 640x480 with 1 Axes>"
            ],
            "image/png": "[encoded data removed]"
          },
          "metadata": {}
        },
        {
          "output_type": "stream",
          "name": "stdout",
          "text": [
            "Our model says it is : 8\n"
          ]
        }
      ]
    }
  ]
}